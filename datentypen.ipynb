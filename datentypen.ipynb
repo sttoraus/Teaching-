{
 "cells": [
  {
   "cell_type": "markdown",
   "metadata": {},
   "source": [
    "## Datentypen\n",
    "Datentypen werden bei der Deklaration einer Variablen automatisch bestimmt\n",
    "### 1. Ganzzahlen:\n",
    "Zahlen ohne Kommastelle (auch negative Zahlen)\n",
    "Integer (int): \n",
    "\n",
    "Beispiele:"
   ]
  },
  {
   "cell_type": "code",
   "execution_count": 14,
   "metadata": {},
   "outputs": [
    {
     "name": "stdout",
     "output_type": "stream",
     "text": [
      "<class 'int'>\n"
     ]
    }
   ],
   "source": [
    "ne_riesige_zahl= 99999999999999999999999999999 # Deklaration einer neuen Variablen und zuweisen eines Wertes\n",
    "print(type(ne_riesige_zahl)) # Ausgabe des Datentyps"
   ]
  },
  {
   "cell_type": "code",
   "execution_count": 15,
   "metadata": {},
   "outputs": [
    {
     "name": "stdout",
     "output_type": "stream",
     "text": [
      "<class 'int'>\n"
     ]
    }
   ],
   "source": [
    "ne_riesige_negative_zahl= -9999999999999999999 # Deklaration einer neuen Variablen und zuweisen eines Wertes\n",
    "print(type(ne_riesige_negative_zahl))"
   ]
  },
  {
   "cell_type": "markdown",
   "metadata": {},
   "source": [
    "### 2. Gleitkommazahlen:\n",
    "Zahlen mit Kommastelle (auch negative Zahlen). Komma muss mit einem Punkt eingegeben werden!\n",
    "\n",
    "Float: \n",
    "\n",
    "Beispiele:"
   ]
  },
  {
   "cell_type": "code",
   "execution_count": 19,
   "metadata": {},
   "outputs": [
    {
     "name": "stdout",
     "output_type": "stream",
     "text": [
      "<class 'float'>\n"
     ]
    }
   ],
   "source": [
    "Zahl= 1.1            # Deklaration einer neuen Variablen und zuweisen eines Wertes\n",
    "print(type(Zahl))    # Ausgabe des Datentyps"
   ]
  },
  {
   "cell_type": "markdown",
   "metadata": {},
   "source": [
    "### 3. Zeichenketten:\n",
    "Kann ein einzelner Buchstabe sein, oder mehrere Zeichen.\n",
    "--> Anführungszeichen beachten\n",
    "\n",
    "String (str):\n",
    "\n",
    "Beispiele:"
   ]
  },
  {
   "cell_type": "code",
   "execution_count": 24,
   "metadata": {},
   "outputs": [
    {
     "name": "stdout",
     "output_type": "stream",
     "text": [
      "<class 'str'>\n"
     ]
    }
   ],
   "source": [
    "Text= \"Hallo\"            # Deklaration einer neuen Variablen und zuweisen eines Wertes\n",
    "print(type(Text))    # Ausgabe des Datentyps"
   ]
  },
  {
   "cell_type": "markdown",
   "metadata": {},
   "source": [
    "### 4. Boolesche Variable:\n",
    "True oder False für 1 bzw. 0 in der boolschen Algebra.\n",
    "\n",
    "bool:\n",
    "\n",
    "Beispiele:"
   ]
  },
  {
   "cell_type": "code",
   "execution_count": 22,
   "metadata": {},
   "outputs": [
    {
     "name": "stdout",
     "output_type": "stream",
     "text": [
      "<class 'bool'>\n"
     ]
    }
   ],
   "source": [
    "Wahr = True        # Deklaration einer neuen Variablen und zuweisen des logischen \"True\"\n",
    "print(type(Wahr))  # Ausgabe des Datentyps"
   ]
  },
  {
   "cell_type": "code",
   "execution_count": 23,
   "metadata": {},
   "outputs": [
    {
     "name": "stdout",
     "output_type": "stream",
     "text": [
      "<class 'bool'>\n"
     ]
    }
   ],
   "source": [
    "Wahr = False        # Deklaration einer neuen Variablen und zuweisen des logischen \"False\"\n",
    "print(type(Wahr))  # Ausgabe des Datentyps"
   ]
  },
  {
   "cell_type": "markdown",
   "metadata": {},
   "source": []
  },
  {
   "cell_type": "markdown",
   "metadata": {},
   "source": [
    "### 2. Eingabe über Tastaur\n",
    "\n",
    "input()\n",
    "\n",
    "Info: Eingabe wird standartmäßig als String gespeichert\n",
    "\n",
    "Beispiele:\n",
    "    "
   ]
  },
  {
   "cell_type": "code",
   "execution_count": 1,
   "metadata": {},
   "outputs": [
    {
     "name": "stdin",
     "output_type": "stream",
     "text": [
      " 10\n"
     ]
    }
   ],
   "source": [
    "a=input() # Eingabe wird als String in a gespeichert"
   ]
  },
  {
   "cell_type": "code",
   "execution_count": 2,
   "metadata": {},
   "outputs": [
    {
     "name": "stdin",
     "output_type": "stream",
     "text": [
      "Bitte Zahl eingeben:  12\n"
     ]
    }
   ],
   "source": [
    "a=input(\"Bitte Zahl eingeben: \")  # \"Bitte Zahl eingeben\" wird als Text ausgegeben; \n",
    "                                  # Eingabe wird als String in a gespeichert"
   ]
  },
  {
   "cell_type": "code",
   "execution_count": 2,
   "metadata": {},
   "outputs": [
    {
     "name": "stdin",
     "output_type": "stream",
     "text": [
      "Bitte Zahl eingeben:  10\n"
     ]
    }
   ],
   "source": [
    "a= int(input(\"Bitte Zahl eingeben: \")) # \"Bitte Zahl eingeben\" wird als Text ausgegeben; \n",
    "                                       # Eingabe wird als Integer in a gespeichert, \n",
    "                                       # kann somit für Rechenoperationen verwendet werden"
   ]
  },
  {
   "cell_type": "markdown",
   "metadata": {},
   "source": [
    "### 2. Abfragen eines Datentyps\n",
    "\n",
    "type()\n",
    "\n",
    "Info: Liefert als Rückgabewert den Datentyp\n",
    "\n",
    "Beispiele:"
   ]
  },
  {
   "cell_type": "code",
   "execution_count": 5,
   "metadata": {},
   "outputs": [
    {
     "name": "stdout",
     "output_type": "stream",
     "text": [
      "<class 'int'>\n"
     ]
    }
   ],
   "source": [
    "Ganszahl = 10\n",
    "print(type(Ganszahl))   # Ausgabe des Datentyps der Variable \"Ganszahl\""
   ]
  },
  {
   "cell_type": "code",
   "execution_count": 7,
   "metadata": {},
   "outputs": [
    {
     "name": "stdout",
     "output_type": "stream",
     "text": [
      "<class 'str'>\n"
     ]
    }
   ],
   "source": [
    "Text = \"Hallo\"\n",
    "print(type(Text))"
   ]
  }
 ],
 "metadata": {
  "kernelspec": {
   "display_name": "Python 3",
   "language": "python",
   "name": "python3"
  },
  "language_info": {
   "codemirror_mode": {
    "name": "ipython",
    "version": 3
   },
   "file_extension": ".py",
   "mimetype": "text/x-python",
   "name": "python",
   "nbconvert_exporter": "python",
   "pygments_lexer": "ipython3",
   "version": "3.8.3"
  }
 },
 "nbformat": 4,
 "nbformat_minor": 4
}
